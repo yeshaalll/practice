{
  "cells": [
    {
      "cell_type": "code",
      "source": [
        "import zipfile\n",
        "import os\n",
        "import shutil\n",
        "with zipfile.ZipFile(\"Data.zip\",\"r\") as f:\n",
        "  f.extractall('.')"
      ],
      "metadata": {
        "id": "jmmXPeAaSbgh"
      },
      "execution_count": null,
      "outputs": []
    },
    {
      "cell_type": "code",
      "source": [
        "def adjustData(img,flag_multi_class,num_class):\n",
        "    if(flag_multi_class):\n",
        "        img = img / 255\n",
        "    elif(np.max(img) > 1):\n",
        "        img = img / 255\n",
        "    return (img)"
      ],
      "metadata": {
        "id": "Cdi-2_lTSbiM"
      },
      "execution_count": 116,
      "outputs": []
    },
    {
      "cell_type": "code",
      "source": [
        "def geneTrainNpy(image_path,flag_multi_class = False,num_class = 2,image_prefix = \"image\",image_as_gray = True,mask_as_gray = True):\n",
        "    image_name_arr = glob.glob(os.path.join(image_path,\"%s*.jpg\"%image_prefix))\n",
        "    image_arr = []\n",
        "    for index,item in enumerate(image_name_arr):\n",
        "        img = io.imread(item,as_gray = image_as_gray)\n",
        "        img = np.reshape(img,img.shape + (1,)) if image_as_gray else img\n",
        "      \n",
        "        image_arr.append(img)\n",
        "    image_arr = np.array(image_arr)\n",
        "    return image_arr"
      ],
      "metadata": {
        "id": "VqDGA958Sbmq"
      },
      "execution_count": 156,
      "outputs": []
    },
    {
      "cell_type": "code",
      "source": [
        "def trainGenerator(batch_size,train_path,image_folder,aug_dict,image_color_mode = \"rgb\",image_save_prefix  = \"image\",\n",
        "                    flag_multi_class = False,num_class = 2,save_to_dir = None,target_size = (250,250),seed = 1):\n",
        "    image_datagen = ImageDataGenerator(**aug_dict)\n",
        "    image_generator = image_datagen.flow_from_directory(\n",
        "        train_path,\n",
        "        classes = [image_folder],\n",
        "        class_mode = None,\n",
        "        color_mode = image_color_mode,\n",
        "        target_size = target_size,\n",
        "        batch_size = batch_size,\n",
        "        save_to_dir = save_to_dir,\n",
        "        save_prefix  = image_save_prefix,\n",
        "        seed = seed)\n",
        "    train_generator = zip(image_generator)\n",
        "    for (img) in train_generator:\n",
        "        \n",
        "        yield (img)"
      ],
      "metadata": {
        "id": "Gv5HPn-LSboY"
      },
      "execution_count": 157,
      "outputs": []
    },
    {
      "cell_type": "code",
      "source": [
        "data_gen_args = dict(\n",
        "                    width_shift_range=0.2,\n",
        "                    height_shift_range=0.2,\n",
        "                    fill_mode='nearest')\n",
        "myGenerator = trainGenerator(100,'Data1','image',data_gen_args,save_to_dir = \"Data1/aug\")"
      ],
      "metadata": {
        "id": "xRJ57I5TSbyU"
      },
      "execution_count": 120,
      "outputs": []
    },
    {
      "cell_type": "code",
      "source": [
        "#ROTATION\n",
        "data_gen_args = dict(\n",
        "                    rotation_range=25,\n",
        "                    fill_mode='nearest')\n",
        "myGenerator = trainGenerator(100,'Data1','image',data_gen_args,save_to_dir = \"Data1/aug\")"
      ],
      "metadata": {
        "id": "3OFvDUigaqHN"
      },
      "execution_count": 162,
      "outputs": []
    },
    {
      "cell_type": "code",
      "source": [
        "#ZOOM\n",
        "data_gen_args = dict(\n",
        "                    zoom_range = [0.5, 1.5],\n",
        "                    fill_mode='nearest')\n",
        "myGenerator = trainGenerator(100,'Data1','image',data_gen_args,save_to_dir = \"Data1/aug\")"
      ],
      "metadata": {
        "id": "cE-d7Gzoptwg"
      },
      "execution_count": 163,
      "outputs": []
    },
    {
      "cell_type": "code",
      "source": [
        "#SHEAR\n",
        "data_gen_args = dict(\n",
        "                    shear_range = 20,\n",
        "                    fill_mode='nearest')\n",
        "myGenerator = trainGenerator(100,'Data1','image',data_gen_args,save_to_dir = \"Data1/aug\")"
      ],
      "metadata": {
        "id": "-hHFHQ-trkv1"
      },
      "execution_count": 164,
      "outputs": []
    },
    {
      "cell_type": "code",
      "source": [
        "#FLIP\n",
        "data_gen_args = dict(\n",
        "                    horizontal_flip = True,\n",
        "                    vertical_flip = True)\n",
        "myGenerator = trainGenerator(100,'Data1','image',data_gen_args,save_to_dir = \"Data1/aug\")"
      ],
      "metadata": {
        "id": "7KY6SzsVrvD8"
      },
      "execution_count": 165,
      "outputs": []
    },
    {
      "cell_type": "code",
      "source": [
        "#BRIGHTNESS\n",
        "data_gen_args = dict(\n",
        "                    brightness_range = [0.5, 2.0])\n",
        "myGenerator = trainGenerator(10,'Data1','image',data_gen_args,save_to_dir = \"Data1/aug\")"
      ],
      "metadata": {
        "id": "ij8P071QsIbf"
      },
      "execution_count": 166,
      "outputs": []
    },
    {
      "cell_type": "code",
      "source": [
        "#COMBINATION\n",
        "data_gen_args = dict(\n",
        "    fill_mode='nearest',\n",
        "    horizontal_flip=True,\n",
        "    width_shift_range=0.2,\n",
        "    height_shift_range=0.2,\n",
        "    zoom_range=[0.8, 1.2],\n",
        "    rotation_range=20,\n",
        "    shear_range=10,\n",
        "    brightness_range = [0.75, 1.5])\n",
        "myGenerator = trainGenerator(100,'Data1','image',data_gen_args,save_to_dir = \"Data1/aug\")"
      ],
      "metadata": {
        "id": "st4ebOKns7Pd"
      },
      "execution_count": 168,
      "outputs": []
    },
    {
      "cell_type": "code",
      "source": [
        "from keras.preprocessing.image import ImageDataGenerator\n",
        "import numpy as np \n",
        "import os\n",
        "import glob\n",
        "import skimage.io as io\n",
        "import skimage.transform as trans\n",
        "\n",
        "num_batch = 10\n",
        "for i,batch in enumerate(myGenerator):\n",
        "    if(i >= num_batch):\n",
        "        break"
      ],
      "metadata": {
        "colab": {
          "base_uri": "https://localhost:8080/"
        },
        "id": "XJUqqAHeSb9d",
        "outputId": "140d9874-9a0c-4a53-df15-d017682dd7af"
      },
      "execution_count": 169,
      "outputs": [
        {
          "output_type": "stream",
          "name": "stdout",
          "text": [
            "Found 100 images belonging to 1 classes.\n"
          ]
        }
      ]
    },
    {
      "cell_type": "code",
      "source": [
        "import matplotlib.pyplot as plt\n",
        "import random\n",
        "image_arr = geneTrainNpy(\"Data1/aug/\")"
      ],
      "metadata": {
        "id": "XsxcLBPnSsBu"
      },
      "execution_count": 170,
      "outputs": []
    },
    {
      "cell_type": "code",
      "source": [],
      "metadata": {
        "id": "1NCcToAM4evp"
      },
      "execution_count": null,
      "outputs": []
    },
    {
      "cell_type": "code",
      "source": [
        "!zip -r /content/Data1.zip /content/Data1/"
      ],
      "metadata": {
        "id": "cMSK_iUQT0gg"
      },
      "execution_count": null,
      "outputs": []
    }
  ],
  "metadata": {
    "colab": {
      "name": "Welcome To Colaboratory",
      "provenance": []
    },
    "kernelspec": {
      "display_name": "Python 3",
      "name": "python3"
    }
  },
  "nbformat": 4,
  "nbformat_minor": 0
}